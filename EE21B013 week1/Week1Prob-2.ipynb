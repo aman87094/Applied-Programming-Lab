{
 "cells": [
  {
   "cell_type": "markdown",
   "id": "ebcf98e4-c828-44a0-8f76-c13f18fc8e2b",
   "metadata": {},
   "source": [
    "### How to run the Code file ?\n",
    "#### Sol :\n",
    "<b>The file in which the code is  is a jupyter notebook (.ipynb) file which can be run directly in jupyter notebook</b>"
   ]
  },
  {
   "cell_type": "markdown",
   "id": "bc66b3b5-035d-4397-af1d-5c64e180632f",
   "metadata": {},
   "source": [
    "# Document metadata\n",
    "\n",
    "> *Problem statement: modify this document so that the author name reflects your name and roll number.  Explain the changes you needed to make here.  If you use other approaches such as LaTeX to generate the PDF, explain the differences between the notebook approach and what you have used.*\n",
    "\n",
    "I have change the Notebook Metadata , In the edit menu there is a option to Edit Notebook Metadata I have changed the author name to : Aman Kumar EE21B013 < ee21b013@smail.iitm.ac.in >"
   ]
  },
  {
   "cell_type": "markdown",
   "id": "47576f05-90e1-4c8b-b75b-13ebffe95171",
   "metadata": {},
   "source": [
    "# Basic Data Types\n",
    "\n",
    "Here we have a series of small problems involving various basic data types in Python.  You are required to complete the code where required, and give *brief* explanations of your answers.  Remember that the documentation and explanation is as important as the answer.\n",
    "\n",
    "For each of the following cells, first execute them, and then give a brief explanation of why the answer comes out to be the way it does.  If there is an error during execution of the cell, explain how you fixed it.  **Add a new cell of type Markdown with the explanation** after the corresponding cell.  If you are using plain Python, add suitable comments after each line and explain this in the documentation (clearly you would be better off using Notebooks here)."
   ]
  },
  {
   "cell_type": "markdown",
   "id": "90d271f4",
   "metadata": {},
   "source": [
    "## Numerical types"
   ]
  },
  {
   "cell_type": "code",
   "execution_count": 1,
   "id": "1e2d2e6e",
   "metadata": {},
   "outputs": [
    {
     "name": "stdout",
     "output_type": "stream",
     "text": [
      "2.4\n"
     ]
    }
   ],
   "source": [
    "print(12 / 5)"
   ]
  },
  {
   "cell_type": "markdown",
   "id": "ef47a6f7",
   "metadata": {},
   "source": [
    "### Explanation of above code :\n",
    "In python we have two type of division one is <b>*float division*</b> and other is <b>*integer division(floor division)*</b> ignore the remainder. The above is <b>float division<br>.\n",
    "<br>\n",
    "<br>\n"
   ]
  },
  {
   "cell_type": "code",
   "execution_count": 60,
   "id": "1b587eb7",
   "metadata": {},
   "outputs": [
    {
     "name": "stdout",
     "output_type": "stream",
     "text": [
      "2\n"
     ]
    }
   ],
   "source": [
    "print(12 // 5)"
   ]
  },
  {
   "cell_type": "markdown",
   "id": "af644292",
   "metadata": {},
   "source": [
    "### Explanation of above code\n",
    "This is *<b>Integer division(floor division)*</b> give only integer value by rounding down the **actual result** to the nearest integer less than or equal to the actual quotient\n",
    "<br>\n",
    "<br>"
   ]
  },
  {
   "cell_type": "code",
   "execution_count": 11,
   "id": "97a6c535",
   "metadata": {},
   "outputs": [
    {
     "name": "stdout",
     "output_type": "stream",
     "text": [
      "10 10 1.0\n"
     ]
    }
   ],
   "source": [
    "a=b=10\n",
    "print(a,b,a/b)"
   ]
  },
  {
   "cell_type": "markdown",
   "id": "da0b6d06",
   "metadata": {},
   "source": [
    "### Explanation of above code : \n",
    "We can do **Multiple assignment** in python, here we are doing the same **a=10** and **b=10** we have written these two statement in a single line using multiple assignment . We can also print more than one thing using print statement.\n",
    "<br>\n",
    "<br>"
   ]
  },
  {
   "cell_type": "markdown",
   "id": "af329d1c",
   "metadata": {},
   "source": [
    "## Strings and related operations"
   ]
  },
  {
   "cell_type": "code",
   "execution_count": 12,
   "id": "ba913542",
   "metadata": {},
   "outputs": [
    {
     "name": "stdout",
     "output_type": "stream",
     "text": [
      "Hello \n"
     ]
    }
   ],
   "source": [
    "a = \"Hello \"\n",
    "print(a)"
   ]
  },
  {
   "cell_type": "markdown",
   "id": "868a176c",
   "metadata": {},
   "source": [
    "### Explanation : \n",
    "We can s*tore string in variables* and using that variable we can operate on string, Here we are print the string using that variable<br>\n",
    "<br>"
   ]
  },
  {
   "cell_type": "markdown",
   "id": "3863e8b8",
   "metadata": {},
   "source": [
    "### Problem :\n",
    "**Output should contain \"Hello 10\"**\n",
    "##### CODE :"
   ]
  },
  {
   "cell_type": "code",
   "execution_count": 14,
   "id": "ad0e046b",
   "metadata": {},
   "outputs": [
    {
     "name": "stdout",
     "output_type": "stream",
     "text": [
      "Hello 10\n"
     ]
    }
   ],
   "source": [
    "b=str(b)\n",
    "\n",
    "print(a+b)  # Output should contain \"Hello 10\" "
   ]
  },
  {
   "cell_type": "markdown",
   "id": "d703b446",
   "metadata": {},
   "source": [
    "### Explanation Of above code: \n",
    "**ERROR** : We can't concatenate **strings with integers** <br>\n",
    "**Solution** : Changing the type of b from *integer to string* we can concatenate the a and b using **'+'** operator"
   ]
  },
  {
   "cell_type": "markdown",
   "id": "f39f71ef",
   "metadata": {},
   "source": [
    "## Problem :\n",
    " Print out a line of **40 '-'** signs (to look like one long line)<br>\n",
    " Then print the number 42 so that it is right justified to the end of the above line<br>\n",
    " Then print one more line of length 40, but with the pattern **'*-*-*-'**\n",
    "#### CODE  Output and Explanation Below:"
   ]
  },
  {
   "cell_type": "code",
   "execution_count": 3,
   "id": "e2793fa4",
   "metadata": {},
   "outputs": [
    {
     "name": "stdout",
     "output_type": "stream",
     "text": [
      "________________________________________\n",
      "                                      42\n",
      "_*_*_*_*_*_*_*_*_*_*_*_*_*_*_*_*_*_*_*_*\n"
     ]
    }
   ],
   "source": [
    "ch1='_'\n",
    "print(40*ch1)\n",
    "temp=42\n",
    "print(f\"{temp:>40}\")#using fstring to format string \n",
    "ch2='_*'\n",
    "print(20*ch2) "
   ]
  },
  {
   "cell_type": "markdown",
   "id": "636dacbb",
   "metadata": {},
   "source": [
    "### Explanation :\n",
    "I have used the string property in python we can use **addition** and **multiplication** to concatenate string"
   ]
  },
  {
   "cell_type": "code",
   "execution_count": 42,
   "id": "9b4e1f03",
   "metadata": {},
   "outputs": [
    {
     "name": "stdout",
     "output_type": "stream",
     "text": [
      "The variable 'a' has the value Hello  and 'b' has the value         10\n"
     ]
    }
   ],
   "source": [
    "print(f\"The variable 'a' has the value {a} and 'b' has the value {b:>10}\")"
   ]
  },
  {
   "cell_type": "markdown",
   "id": "6ac1a2b7",
   "metadata": {},
   "source": [
    "### Explanation : \n",
    "Using fstring we can format fstring in the above code we are printing the value of a and b(with right aligned with 10 character gap)<br><br>"
   ]
  },
  {
   "cell_type": "markdown",
   "id": "094c9975",
   "metadata": {},
   "source": [
    "### Problem:\n",
    "##### Create a list of dictionaries where each entry in the list has two keys:<br>\n",
    "* **id**: this will be the ID number of a course, for example 'EE2703'\n",
    "* **name**: this will be the name, for example 'Applied Programming Lab'<br>\n",
    "* Add 3 entries:<br>\n",
    "**EE2703 -> Applied Programming Lab<br>\n",
    "EE2003 -> Computer Organization<br>\n",
    "EE5311 -> Digital IC Design**<br>\n",
    "Then print out the entries in a neatly formatted table where the \n",
    "ID number is left justified\n",
    "to 10 spaces and the name is right justified to 40 spaces. <br> \n",
    "That is it should look like:<br>\n",
    "EE2703&emsp;&emsp;&emsp;&emsp;&emsp;&emsp;Applied Programming Lab<br>\n",
    "EE2003&emsp;&emsp;&emsp;&emsp;&emsp;&emsp;&nbsp;&nbsp;&nbsp;Computer Organization<br>\n",
    "EE5131&emsp;&emsp;&emsp;&emsp;&emsp;&emsp;&emsp;&emsp;&emsp;&emsp;&nbsp;Digital IC Design<br>\n",
    "\n",
    "#### CODE  Output and Explanation Below:"
   ]
  },
  {
   "cell_type": "code",
   "execution_count": 10,
   "id": "9d746f81",
   "metadata": {},
   "outputs": [
    {
     "name": "stdout",
     "output_type": "stream",
     "text": [
      "EE2703                     Applied Programming Lab\n",
      "EE2003                       Computer Organization\n",
      "EE5131                           Digital IC Design\n"
     ]
    }
   ],
   "source": [
    "# Output should looks like :\n",
    "# EE2703                     Applied Programming Lab\n",
    "# EE2003                       Computer Organization\n",
    "# EE5131                           Digital IC Design\n",
    "CoursesStructure=[{'id':'EE2703','name':'Applied Programming Lab'},{'id':'EE2003','name':'Computer Organization'},\n",
    "        {'id':'EE5131','name':'Digital IC Design'}]\n",
    "for course in CoursesStructure:\n",
    "    id=course[\"id\"]\n",
    "    name=course[\"name\"]\n",
    "    print(f'{id:<10}{name:>40}')\n"
   ]
  },
  {
   "cell_type": "markdown",
   "id": "5b9a0dd0",
   "metadata": {},
   "source": [
    "### Explanation  of above code:\n",
    "I have created a *list with name CourseStructure* and inside that i have created *three dictionary* in which in each dictionary i am storing two \n",
    "**keys : id and name** and using those i am printing the whole dictionary and for aligning i am using the string formatting syntax.<br>"
   ]
  },
  {
   "cell_type": "markdown",
   "id": "959169d6",
   "metadata": {},
   "source": [
    "# Functions for general manipulation"
   ]
  },
  {
   "cell_type": "markdown",
   "id": "62c119f6",
   "metadata": {},
   "source": [
    "## Problem :\n",
    "\n",
    "- Write a function with name 'twosc' that will take a single integer\n",
    "    as input, and print out the binary representation of the number \n",
    "    as output.<br>  The function should take one other optional parameter N \n",
    "    which represents the number of bits.  The final result should always \n",
    "    contain **N** <br>characters as output (either 0 or 1) and should use \n",
    "    **two's complement** to represent the number if it is *negative*.\n",
    "    Examples:\n",
    "    - twosc(10): 0000000000001010\n",
    "    - twosc(-10): 1111111111110110\n",
    "    - twosc(-20, 8): 11101100\n",
    "\n",
    "**Use only functions from the Python standard library to do this.**\n",
    "\n",
    "#### CODE  Output and Explanation Below:"
   ]
  },
  {
   "cell_type": "code",
   "execution_count": 5,
   "id": "fb799573",
   "metadata": {},
   "outputs": [
    {
     "name": "stdout",
     "output_type": "stream",
     "text": [
      "11111111111111111111111111111111\n",
      "\n",
      "1111111111111111\n"
     ]
    }
   ],
   "source": [
    "#This function calculate the binary representation of a positive no and return the binary representation of no in \n",
    "#form of list \n",
    "def find_bin(n):\n",
    "    l1=[]\n",
    "    while(n>0):\n",
    "        l1.append(n&1)\n",
    "        n=n//2\n",
    "    l1.reverse()\n",
    "    return l1\n",
    "\n",
    "\n",
    "def twosc(k,N=16):\n",
    "    x=bin(k) # getting the binary representation of k using standard library function\n",
    "    l=[]\n",
    "\n",
    "    if k<0 :\n",
    "        x=x[3:]\n",
    "        if(N<=len(x)):\n",
    "            print(f\"we can't represent the given number in less than {len(x)+1} binary digit\")\n",
    "            return\n",
    "        #converting the binary to one's complement and inserting into list l\n",
    "        for i in range(len(x)):\n",
    "            if(x[i]=='1'):\n",
    "                l+=[1]\n",
    "            else:\n",
    "                 l+=[0]\n",
    "        \n",
    "        for ele in range(len(l),N):#inserting value 0 for making the length of list upto N\n",
    "            l.insert(0,0)\n",
    "        for i in range(len(l)):\n",
    "            if(l[i]==1):\n",
    "                l[i]=0\n",
    "            else:\n",
    "                 l[i]=1\n",
    "        carry=1\n",
    "        #converting into two's complement by adding carry =1 to the one's complement \n",
    "        for i in range(len(l)-1,-1,-1):\n",
    "            if(carry==1):\n",
    "                if(l[i]==1):\n",
    "                    l[i]=0\n",
    "                elif(l[i]==0):\n",
    "                    l[i]=1\n",
    "                    carry=0\n",
    "            elif(carry==0):\n",
    "                break\n",
    "        \n",
    "        for digit in l:\n",
    "            print(digit,end='')\n",
    "        print(\"\")\n",
    "    \n",
    "    if(k>=0):\n",
    "        x=x[2:]\n",
    "        if(N<=len(x)):\n",
    "            print(f\"we can't represent the given number in less than {len(x)} binary digit\")\n",
    "            return\n",
    "        for i in range(len(x)):\n",
    "            if(x[i]=='1'):\n",
    "                l+=[1]\n",
    "            else:\n",
    "                 l+=[0]\n",
    "        for ele in range(len(l),N):\n",
    "            l.insert(0,0)\n",
    "        for digit in l:\n",
    "            print(digit,end='')\n",
    "        print(\"\")\n",
    "twosc(-1,32)\n",
    "print('')\n",
    "twosc(-1,16)"
   ]
  },
  {
   "cell_type": "markdown",
   "id": "cc26c3ee",
   "metadata": {},
   "source": [
    "### Explanation of above code:\n",
    "I have completed the function twosc which will take any integer input and prints out it's binary representation \n",
    "if the **Input number is negative number it will print it's two's complement**. I have used **bin()** function from <b>standard library </b>\n",
    "but I have also made a function **find_bin()** which will find the binary representation of a whole no and return it in form of list. In finding the binary representation of negative no I have firstly change the no into it's one's complement and than converted into two's complement by adding 1 to it's one's complement"
   ]
  },
  {
   "cell_type": "markdown",
   "id": "d9845f63",
   "metadata": {},
   "source": [
    "# List comprehensions and decorators"
   ]
  },
  {
   "cell_type": "markdown",
   "id": "2940f1d6",
   "metadata": {},
   "source": [
    "## Problem :\n",
    "#### Explain the output you see below\n",
    "#### CODE  Output and Explanation Below:"
   ]
  },
  {
   "cell_type": "code",
   "execution_count": 40,
   "id": "9f573a70-d7f0-4496-926f-34b7cff5492f",
   "metadata": {},
   "outputs": [
    {
     "data": {
      "text/plain": [
       "[0, 4, 16, 36, 64]"
      ]
     },
     "execution_count": 40,
     "metadata": {},
     "output_type": "execute_result"
    }
   ],
   "source": [
    "[x*x for x in range(10) if x%2 == 0]"
   ]
  },
  {
   "cell_type": "markdown",
   "id": "c96352ac",
   "metadata": {},
   "source": [
    "### Explanation :\n",
    "The code above is iterating from **0 to 9(included) with step 1** and checking if the **number is even** then it append the **square of the number** in the list <br>\n",
    "<br>\n"
   ]
  },
  {
   "cell_type": "markdown",
   "id": "ccb5de5b",
   "metadata": {},
   "source": [
    "## Problem \n",
    "##### Explain the output you see below\n",
    "#### CODE  Output and Explanation Below:"
   ]
  },
  {
   "cell_type": "code",
   "execution_count": 41,
   "id": "d34ddb81-5caf-40a7-ac1f-43ce08d64220",
   "metadata": {},
   "outputs": [
    {
     "data": {
      "text/plain": [
       "[1, 2, 3, 4, 5, 6, 7, 8, 9]"
      ]
     },
     "execution_count": 41,
     "metadata": {},
     "output_type": "execute_result"
    }
   ],
   "source": [
    "matrix = [[1,2,3], [4,5,6], [7,8,9]]\n",
    "[v for row in matrix for v in row]"
   ]
  },
  {
   "cell_type": "markdown",
   "id": "84ead171",
   "metadata": {},
   "source": [
    "### Explanation : \n",
    "The above code is iterating for **each row and inside row for each element** of that row and appending each element "
   ]
  },
  {
   "cell_type": "markdown",
   "id": "60bc1934",
   "metadata": {},
   "source": [
    "## Problem\n",
    "Define a function `is_prime(x)` that will return True if a number \n",
    "is prime, or False otherwise.\n",
    "Use it to write a one-line statement that will print all \n",
    "prime numbers between 1 and 100\n",
    "#### CODE  Output and Explanation Below:"
   ]
  },
  {
   "cell_type": "code",
   "execution_count": 2,
   "id": "e7349601-a068-4d91-bc0f-bcc755c4b215",
   "metadata": {},
   "outputs": [
    {
     "name": "stdout",
     "output_type": "stream",
     "text": [
      "[2, 3, 5, 7, 11, 13, 17, 19, 23, 29, 31, 37, 41, 43, 47, 53, 59, 61, 67, 71, 73, 79, 83, 89, 97]\n"
     ]
    }
   ],
   "source": [
    "\n",
    "def is_prime(n):\n",
    "    ans=True\n",
    "    # Checking if the no is less than or equal to 1 than it's not prime\n",
    "    if(n<=1):\n",
    "        print(\"Error! : Prime numbers are positive integers greater than 1\")\n",
    "        print(\"Enter a valid value\")\n",
    "        return False\n",
    "    if(n==0 or n==1 or n<0): return False\n",
    "    #looping from 2 to n and breaking the loop when when square(no) is greater than n+1\n",
    "    for no in range(2,n,1):\n",
    "        if(no*no>n+1): #break the loop if we can't find the factor till root(n) than that is prime no\n",
    "            break\n",
    "        if(n%no==0):  #checking if there is a factor \n",
    "            ans=False\n",
    "            break\n",
    "    return ans\n",
    "print([no for no in range(2,101) if is_prime(no)])"
   ]
  },
  {
   "cell_type": "markdown",
   "id": "af53f860",
   "metadata": {},
   "source": [
    "## Explanation of above code\n",
    "In function is_prime if number entered for check is less than or equal to **1** than **it's not a prime** and i will return from the function if it is greater than **1**\n",
    "than i am iterating no from **2 to n** and breaking the loop as ''**' <b>{square(no)}</b> is greater than <b>{n+1}</b>**'' because when there is no factor of \n",
    "**n less than or equal to sqrr(n)** than there is also no factor of that **n** from **sqrt(n) to n** and the moment I find  a **factor of n** i am returning **false** from the fucntion otherwise it will return **true** as the **n will be prime no**\n",
    "<br><br>"
   ]
  },
  {
   "cell_type": "code",
   "execution_count": 6,
   "id": "3dd1087b-f384-41a2-88d8-6788336d2291",
   "metadata": {},
   "outputs": [
    {
     "name": "stdout",
     "output_type": "stream",
     "text": [
      "Hello happy flappy world\n"
     ]
    }
   ],
   "source": [
    "# Explain the output below\n",
    "def f1(x):\n",
    "    return \"happy \" + x\n",
    "def f2(f):\n",
    "    def wrapper(*args, **kwargs):\n",
    "        return \"Hello \" + f(*args, **kwargs) + \" world\"\n",
    "    return wrapper\n",
    "f3 = f2(f1)\n",
    "print(f3(\"flappy\"))"
   ]
  },
  {
   "cell_type": "markdown",
   "id": "11018cc7",
   "metadata": {},
   "source": [
    "### Explanation of above code:\n",
    "In the above code, we defined **two function f1(x) and f2(f)**.In python, we can <b>store fucntion inside a variable, we can pass a function as argument to function we can also return a fucntion from a function</b>, we are doing the same thing here we are refrencing the function <b>f2(f1) by f3(storing under variable f3)</b> and calling the variable f3 means we are calling the function f2 and inside we passed f1 as argument with \"flappy\" as argument so inside the f2 function there is also a function defined which will take as many arguments we will give using the <b>*args and **kwargs</b> and return the wrapper function which is defined inside the f2 which will take the arguments passed using <b>*args and **kwargs </b> and return \"hello\" + call the function which is passed inside the the function f2 as an argument with the arguments <b>*args and **kwargs</b>+\"world\",The function f1 return \"happy\"+the argument passed inside it (here that is \"flappy\").so finally, the function f2 will return **\"Hello happy flappy world\"** which will get printed."
   ]
  },
  {
   "cell_type": "markdown",
   "id": "25e11785",
   "metadata": {},
   "source": [
    "### Explanation of above code :\n"
   ]
  },
  {
   "cell_type": "code",
   "execution_count": 7,
   "id": "ede870a7-6564-4930-9ff1-818f075c3e43",
   "metadata": {},
   "outputs": [
    {
     "name": "stdout",
     "output_type": "stream",
     "text": [
      "Hello nappy flappy world\n"
     ]
    }
   ],
   "source": [
    "# Explain the output below\n",
    "@f2\n",
    "def f4(x):\n",
    "    return \"nappy \" + x\n",
    "\n",
    "print(f4(\"flappy\"))"
   ]
  },
  {
   "cell_type": "markdown",
   "id": "5419ce24",
   "metadata": {},
   "source": [
    "### Explanation of above code :\n",
    "These are **decorators**, In <b>decorators functions are taken as argument inside function and then called inside another function,it will add some functionality to the function without changing the original function permanently</b>,it will wrap the function inside another function.Here f2 is wrapper function and f4 is wrapped function, i.e. whenever f4 is called It will be passed inside f2 as wrapped function <b>(f2(f4(\"flappy\"))</b>, here when f4 is called with \"flappy\" as argument, It will go inside f2 where wrapper function is called inside that wrapper function function f4 will be called and then finally the wrapper function will return **\"Hello nappy flappy world\"** which will be returned by f2 and will got printed."
   ]
  },
  {
   "cell_type": "markdown",
   "id": "de144cc1-a06a-4e96-8017-7887296dddc0",
   "metadata": {},
   "source": [
    "# File IO"
   ]
  },
  {
   "cell_type": "markdown",
   "id": "e04ca5d3",
   "metadata": {},
   "source": [
    "## Problem\n",
    "**Write a function to generate prime numbers from 1 to N (input)**\n",
    "**and write them to a file (second argument).<br>  You can reuse the prime**\n",
    "**detection function written earlier.**\n",
    "#### CODE  Output and Explanation Below:"
   ]
  },
  {
   "cell_type": "code",
   "execution_count": 3,
   "id": "09e62f52-fec6-4026-a4d8-ca4b87b19732",
   "metadata": {},
   "outputs": [],
   "source": [
    "#function to write the the prime number upto 'N' to the file given to the fucntion as input \n",
    "def write_primes(N, filename):\n",
    "    lst_prime_no=[]\n",
    "    for num in range(2,N+1):\n",
    "        if (is_prime(num)):\n",
    "           lst_prime_no.append(num)\n",
    "    with open(filename,'w') as f:   #opening filename in write mode to write the prime no upto N\n",
    "        for ele in lst_prime_no:\n",
    "            f.write(str(ele))\n",
    "            f.write(\"  \")\n",
    "write_primes(101,'untitled.txt')"
   ]
  },
  {
   "cell_type": "markdown",
   "id": "63794613",
   "metadata": {},
   "source": [
    "### Explanation of above code:\n",
    "The fucntion takes two input **numebr and filename** and write all the **prime no upto the given vlaue of number(N) to the file(filename)**. I am Iterating from **2 to N(included)** and checking if the number is prime than i will add the number to \n",
    "a list and than opening the file to write the content of list into the opened file."
   ]
  },
  {
   "cell_type": "markdown",
   "id": "9b2de5cb-13c3-4804-9576-e7bb6fd3a371",
   "metadata": {},
   "source": [
    "# Exceptions"
   ]
  },
  {
   "cell_type": "markdown",
   "id": "987ecbb3",
   "metadata": {},
   "source": [
    "## Problem :\n",
    "**Write a function that takes in a number as input, and prints out** \n",
    "**whether it is a prime or not.<br>  If the input is not an integer,**\n",
    "**print an appropriate error message.  Use exceptions to detect problems.**\n",
    "#### CODE and Explanation below "
   ]
  },
  {
   "cell_type": "code",
   "execution_count": 55,
   "id": "eec5626e-6e92-45bf-b307-2459de0f44e1",
   "metadata": {},
   "outputs": [
    {
     "name": "stdout",
     "output_type": "stream",
     "text": [
      "Enter a number: 97\n",
      "Prime \n"
     ]
    }
   ],
   "source": [
    "\n",
    "def check_prime(x):\n",
    "\n",
    "    try:\n",
    "        num=int(x)\n",
    "        # print(is_prime(num))\n",
    "        if(num<=1):\n",
    "            raise ValueError\n",
    "        if(is_prime(num)):\n",
    "            print(\"Prime \")\n",
    "        else :\n",
    "            print(\"Not Prime\")\n",
    "    except ValueError:\n",
    "        print(\"ERROR! : Enter a positive integer value \")\n",
    "x = input('Enter a number: ')\n",
    "check_prime(x)\n"
   ]
  },
  {
   "cell_type": "markdown",
   "id": "32eeb0f7",
   "metadata": {},
   "source": [
    "### Explanation of above code:\n",
    "I am checking if the input is in correct format or not using try and except and if input is in wrong than raise the error else i am checking if the no given is prime or no using the fucntion that i previously made and if it is prime it will print **prime** othewise it will print **Not Prime**."
   ]
  }
 ],
 "metadata": {
  "authors": [
   {
    "name": "Aman Kumar EE21B013 <ee21b013@smail.iitm.ac.in>"
   }
  ],
  "kernelspec": {
   "display_name": "Python 3 (ipykernel)",
   "language": "python",
   "name": "python3"
  },
  "language_info": {
   "codemirror_mode": {
    "name": "ipython",
    "version": 3
   },
   "file_extension": ".py",
   "mimetype": "text/x-python",
   "name": "python",
   "nbconvert_exporter": "python",
   "pygments_lexer": "ipython3",
   "version": "3.10.8"
  },
  "title": "EE2703 - Week 1",
  "toc-autonumbering": true,
  "vscode": {
   "interpreter": {
    "hash": "b0fa6594d8f4cbf19f97940f81e996739fb7646882a419484c72d19e05852a7e"
   }
  }
 },
 "nbformat": 4,
 "nbformat_minor": 5
}
