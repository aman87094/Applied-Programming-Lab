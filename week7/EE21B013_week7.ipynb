{
 "cells": [
  {
   "cell_type": "markdown",
   "metadata": {},
   "source": [
    "# How to run the code and the output\n",
    "- I used python for solving the problem statement \n",
    "- Solution is simple .py file attached.\n",
    "- Open the vs code and run the python file attached with name sol.py\n",
    "- You will get 3 figure as output \n",
    "    - 1st fig : Plotting of Finding of minimum using **Annealing** using the Probablity function given in the presentation file:\n",
    "        - $$P(\\Delta E) = e^{-\\frac{\\Delta E}{kT}}$$\n",
    "    - 2nd fig : Plotting of cities traversed in order to find minimum distance covered to travel all the cities for dataset **tsp_10.txt**\n",
    "    - 3rd fig : Plotting of cities traversed in order to find minimum distance covered to travel all the cities for dataset **tsp_100.txt**\n",
    "- After that you will get output in the terminal .\n",
    "- After that you will get the output printed for problem 1 as :\n",
    "    - `minma points and its value`\n",
    "- Just below the output of first there is output for the **2nd** Problem statement for both the dataset **tsp_10.txt** and **tsp_100.txt**."
   ]
  },
  {
   "cell_type": "markdown",
   "metadata": {},
   "source": [
    "# Code Explanation :\n",
    "### 1. function find_min :\n",
    "- For finding minima i made the function find_min :\n",
    "    - It will take input parameter as :\n",
    "        - func : the function over which annealing will be applied to find minima\n",
    "        - bestx : starting point to start\n",
    "        - decayrate : decay rate for applying annelaing \n",
    "        - tempearature\n",
    "        - the range of search space is defined inside the function as it is not given in the problem statement to take the range as input that's why i have defined the search space inside the function only.\n",
    "        - there is nothing much to say about the code as it is same as it is given in the presentation file of the problem statement i have just encapsulated it inside the function.\n",
    "        - The function return bestx and bestcost till the no of iteration defined found using annealing concept.\n",
    "### 2. Function read_file :\n",
    "- This function i made for reading a file and return the data inside the file in form of list.\n",
    "### 3. Function find_min_cost_tsp : \n",
    "- For solving the travelling salesman problem I made this function \n",
    "    - Input parameters : \n",
    "        - only the file name in which the **x** and **y** coordinates of the cities are given \n",
    "        - It will read the datafile using the readfile method defined before and  store the data accrodingly.\n",
    "        "
   ]
  },
  {
   "cell_type": "markdown",
   "metadata": {},
   "source": []
  }
 ],
 "metadata": {
  "authors": [
   {
    "name": "Aman Kumar EE21B013 <ee21b013@smail.iitm.ac.in>"
   }
  ],
  "kernelspec": {
   "display_name": "Python 3 (ipykernel)",
   "language": "python",
   "name": "python3"
  },
  "language_info": {
   "codemirror_mode": {
    "name": "ipython",
    "version": 3
   },
   "file_extension": ".py",
   "mimetype": "text/x-python",
   "name": "python",
   "nbconvert_exporter": "python",
   "pygments_lexer": "ipython3",
   "version": "3.10.8"
  }
 },
 "nbformat": 4,
 "nbformat_minor": 2
}
