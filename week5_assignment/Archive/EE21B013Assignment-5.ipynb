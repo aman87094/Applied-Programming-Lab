{
 "cells": [
  {
   "attachments": {},
   "cell_type": "markdown",
   "metadata": {},
   "source": [
    "#                                              Assignment - 5"
   ]
  },
  {
   "cell_type": "code",
   "execution_count": 1,
   "metadata": {},
   "outputs": [],
   "source": [
    "# Magic command below to enable interactivity in the JupyterLab interface\n",
    "%matplotlib ipympl\n",
    "# Some basic imports that are useful\n",
    "import numpy as np\n",
    "import matplotlib.pyplot as plt\n",
    "from matplotlib.animation import FuncAnimation"
   ]
  },
  {
   "cell_type": "code",
   "execution_count": 2,
   "metadata": {},
   "outputs": [],
   "source": [
    "## Code given by sir to understand how to solve the problem\n",
    "# def circle(t):\n",
    "#     return np.cos(t), np.sin(t)\n",
    "# def square(t):\n",
    "# # \"\"\"Return x and y coordinates for a square in +/-0.5.\"\"\"\n",
    "#     n4 = int(len(t) / 4)\n",
    "#     ts = np.linspace(-0.5, +0.5, n4)\n",
    "#     xs = np.concatenate([ts, 0.5*np.ones(n4), ts[::-1], -0.5*np.ones(n4)]) \n",
    "#     ys = np.concatenate([xs[n4:], xs[:n4]])\n",
    "#     return xs, ys"
   ]
  },
  {
   "attachments": {},
   "cell_type": "markdown",
   "metadata": {},
   "source": [
    "## Explanation : \n",
    "- I got some Idea from the code given in the Presentation of this week how to code for making transition.\n",
    "- Like given above commented function **circle and square** gives us equal no of points on each side for a particular shape that can be used to map one shape with other one.\n",
    "- As example in square we are dividing the total no of points by 4 so that each side get equal no of points and then can be used to map shapes.\n",
    "-  Getting idea from the presentation I implemented my code and i am using some of the function from the presentation itself.\n"
   ]
  },
  {
   "attachments": {},
   "cell_type": "markdown",
   "metadata": {},
   "source": [
    "# Approach :\n",
    "- **As the task is to Implement changing different regular shapes , as I carefully observed the video given in the moodle i found that all the points of the different regular shapes are lying on the unit circle.**\n",
    "- So after observing that, I used the concept of **complex no(finding roots of unity)** for finding the vertex of each shapes.\n",
    "- so the function **Get_all_corner_points** i am using this function for finding roots of unity for a particular shape and returning it in the form of array of **x_coordinate and y_coordinates**.\n",
    "- For implementig changing shape we can use different types of mapping like we can map each points on each side to the corresponding points of next shape, But i am using the mapping of corner points of present shape to the next changing shape. I am doing this by splitting the vertex and then mapping to the corresponding vertex of the next shape.\n",
    "- For mapping I have created tow function \n",
    "    - 1. **mapping** - this is used to find the vertex of current shape which is going to be mapped to the next shape and return it in particular format which i am going to explain a little bit later after defining cross_mapping function.\n",
    "    - 2. **cross_mapping** - This is used to find the vertex of the next shape which is going to be mapped to the next shape and return it  in a paricular format .\n",
    "   -  take example for tansition of triangle to square \n",
    "    - let take x1,x2,x3 be x-coordinate corner points of triangle and a1,a2,a3,a4 are the x-coordinate corner points of square.\n",
    "    so the **mapping function** gives me **[x1,x1,x2,x2,x3,x3,x1]** and **cross_mapping** gives me **[a1,a2,a2,a3,a3,a4,a1] and i am \n",
    "    mapping these two array to transient of x-coordinate of one shape to another shape similar steps i have followed for y-coordinate also \n",
    "    and then after some steps we will get square from triangle.\n",
    "\n",
    "    "
   ]
  },
  {
   "attachments": {},
   "cell_type": "markdown",
   "metadata": {},
   "source": [
    "### Finding corner vertex and mapping function "
   ]
  },
  {
   "cell_type": "code",
   "execution_count": 3,
   "metadata": {},
   "outputs": [],
   "source": [
    "# Function for finding the corner points \n",
    "def Get_all_corner_points(n):\n",
    "    points=np.asarray([i for i in range(n)])\n",
    "    # finding x and y coordinate using finding n-th root unity method\n",
    "    x_coordinates=np.cos(points*((2*np.pi)/n)) \n",
    "    y_coordinates=np.sin(points*((2*np.pi)/n))\n",
    "\n",
    "    return x_coordinates,y_coordinates\n",
    "# Mapping function for find the splitted vertex of first shape\n",
    "def mapping(n):\n",
    "    x,y=Get_all_corner_points(n) # calling function for finding and stroing all corner_points of given shape\n",
    "\n",
    "    x_coordinates=[] #x_coordinate storage of splitted vertex\n",
    "    y_coordinates=[]# y_coordinate storage of splitted vertex\n",
    "\n",
    "\n",
    "    for ele in x:\n",
    "        x_coordinates.append(ele) #splitting of x-vertex as per requirement\n",
    "        x_coordinates.append(ele)\n",
    "\n",
    "    for ele in y:\n",
    "        y_coordinates.append(ele) #splitting of y-vertex as per requirement\n",
    "        y_coordinates.append(ele)\n",
    "\n",
    "    x_coordinates.append(x[0]) # adding this vertex to close the shape\n",
    "    y_coordinates.append(y[0])\n",
    "   \n",
    "    x_coordinates=np.array(x_coordinates) # changing the list into numpy array\n",
    "    y_coordinates=np.array(y_coordinates)\n",
    "\n",
    "    return x_coordinates,y_coordinates\n",
    "\n",
    "\n",
    "# a,b=mapping(3)\n",
    "# print(a,b)\n",
    "# print(type(a),type(b))\n",
    "\n",
    "# Mapping Function for finding the splitted vertex of second (next) shape\n",
    "def cross_mapping(n):\n",
    "    x,y=Get_all_corner_points(n) # calling function for finding and stroing all corner_points of given shape\n",
    "\n",
    "    x_coordinates=[] #x_coordinate storage of splitted vertex\n",
    "    y_coordinates=[] # y_coordinate storage of splitted vertex\n",
    "\n",
    "    # from here splitting of vertex as per requirement of mapping \n",
    "    x_coordinates.append(x[0])\n",
    "\n",
    "    y_coordinates.append(y[0])\n",
    "\n",
    "    for i in range(1,n-1):\n",
    "        x_coordinates.append(x[i])\n",
    "        x_coordinates.append(x[i])\n",
    "        y_coordinates.append(y[i])\n",
    "        y_coordinates.append(y[i])\n",
    "\n",
    "    x_coordinates.append(x[n-1])\n",
    "    # x_coordinates.append(x[n-1])\n",
    "    x_coordinates.append(x[0])\n",
    "\n",
    "    y_coordinates.append(y[n-1])\n",
    "    # y_coordinates.append(y[n-1])\n",
    "    y_coordinates.append(y[0])\n",
    "\n",
    "    x_coordinates=np.array(x_coordinates) # changing the list into numpy array\n",
    "    y_coordinates=np.array(y_coordinates)\n",
    "    \n",
    "    return x_coordinates,y_coordinates  # Returning of splitted vertex "
   ]
  },
  {
   "attachments": {},
   "cell_type": "markdown",
   "metadata": {},
   "source": [
    "## suggestion \n",
    "- if you are getting some unusual shape it is because you need to restart shape because this plotting of graph takes global variable and it may be happing that some global variable have been changed so you may get some unusual shape transitioning so please restart the kernel if it happens and rerun it it will give proper output."
   ]
  },
  {
   "cell_type": "code",
   "execution_count": 4,
   "metadata": {},
   "outputs": [
    {
     "data": {
      "application/vnd.jupyter.widget-view+json": {
       "model_id": "5f47d46dffdf4598ad9d5507344f9d04",
       "version_major": 2,
       "version_minor": 0
      },
      "image/png": "[encoded data removed]",
      "text/html": [
       "\n",
       "            <div style=\"display: inline-block;\">\n",
       "                <div class=\"jupyter-widgets widget-label\" style=\"text-align: center;\">\n",
       "                    Figure\n",
       "                </div>\n",
       "                <img src='data:image/png;base64,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' width=640.0/>\n",
       "            </div>\n",
       "        "
      ],
      "text/plain": [
       "Canvas(toolbar=Toolbar(toolitems=[('Home', 'Reset original view', 'home', 'home'), ('Back', 'Back to previous …"
      ]
     },
     "metadata": {},
     "output_type": "display_data"
    }
   ],
   "source": [
    "fig, ax = plt.subplots()\n",
    "xdata, ydata = [], []\n",
    "ln, = ax.plot([], [], 'r') #creates a red line object with no data and assigns it to the variable ln.\n",
    "ax.set_aspect('equal',adjustable='box')\n",
    "col=['red','blue','green','black','orange','orange','black','green','blue','red','grey']\n",
    "t=4*5*6*7*8\n",
    "def circle(t):\n",
    "    return np.cos(t), np.sin(t)\n",
    "\n",
    "#init() sets the limits of the x and y axes for the plot and returns the line object ln.\n",
    "def init():\n",
    "    ax.set_xlim(-1.5, 1.5)\n",
    "    ax.set_ylim(-1.5, 1.5)\n",
    "    return ln,\n",
    "\n",
    "#update(frame) is a function that is called by the FuncAnimation object for each frame of the animation.\n",
    "#The frame argument is a float between 1 and 2*(no_of_fig)-1 that determines the current state of the morphing process.\n",
    "def update(frame):\n",
    "    xdata, ydata = morph(frame)\n",
    "    ln.set_data(xdata, ydata)\n",
    "    ln.set_color(col[int(frame)-1])\n",
    "    return ln,\n",
    "# function Return x and  coordinate of morphed shape\n",
    "def morph(frame):\n",
    "    # this condition is checking for forward changing of shape or backward changing of shape\n",
    "    if(frame < num_of_fig):\n",
    "        n=int(frame)\n",
    "        x1,y1=mapping(n+2)\n",
    "        x2,y2=cross_mapping(n+3)\n",
    "        alpha=frame-n\n",
    "        # coefficient of morphing is calculated acroding the value of alpha\n",
    "        xm = alpha * x2 + (1-alpha) * x1\n",
    "        ym = alpha * y2 + (1-alpha) * y1\n",
    "        return xm, ym\n",
    "    else:\n",
    "        # Backward morphing i.e. change shape in reverse order\n",
    "        n=int(frame)\n",
    "        x1,y1=cross_mapping(2*num_of_fig-n + 2)\n",
    "        x2,y2=mapping(2*num_of_fig-n + 1)\n",
    "        # changing the value of alpha for reverse order\n",
    "        alpha=frame-n\n",
    "        # coefficient of morphing is calculated acroding the value of alpha\n",
    "        xm = alpha * x2 + (1-alpha) * x1\n",
    "        ym = alpha * y2 + (1-alpha) * y1\n",
    "        return xm, ym\n",
    "\n",
    "num_of_fig=6 #Total no of polygons that will appear in morphing\n",
    "\n",
    "# xc, yc = circle(np.linspace(0, 2*np.pi, 200))\n",
    "# plt.plot(xc,yc)\n",
    "\n",
    "#Rendering the animation\n",
    "#Speed can be controlled by changing multiplying factor I have used 50\n",
    "#if you want to slow down change to 200 in frames part\n",
    "ani = FuncAnimation(fig, update, frames=np.linspace(1, 2*num_of_fig-1, (2*num_of_fig-2)*50),\n",
    "                    init_func=init, blit=True, interval=10, repeat=False)\n",
    "plt.show()\n"
   ]
  },
  {
   "cell_type": "code",
   "execution_count": null,
   "metadata": {},
   "outputs": [],
   "source": []
  }
 ],
 "metadata": {
  "authors": [
   {
    "name": "Aman Kumar EE21B013 <ee21b013@smail.iitm.ac.in>"
   }
  ],
  "kernelspec": {
   "display_name": "Python 3 (ipykernel)",
   "language": "python",
   "name": "python3"
  },
  "language_info": {
   "codemirror_mode": {
    "name": "ipython",
    "version": 3
   },
   "file_extension": ".py",
   "mimetype": "text/x-python",
   "name": "python",
   "nbconvert_exporter": "python",
   "pygments_lexer": "ipython3",
   "version": "3.10.8"
  }
 },
 "nbformat": 4,
 "nbformat_minor": 2
}
