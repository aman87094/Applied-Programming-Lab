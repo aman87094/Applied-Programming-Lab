{
 "cells": [
  {
   "cell_type": "code",
   "execution_count": null,
   "metadata": {},
   "outputs": [],
   "source": [
    "# Magic command below to enable interactivity in the JupyterLab interface\n",
    "%matplotlib ipympl\n",
    "# Some basic imports that are useful\n",
    "import numpy as np\n",
    "import matplotlib.pyplot as plt\n",
    "from matplotlib.animation import FuncAnimation"
   ]
  },
  {
   "cell_type": "code",
   "execution_count": null,
   "metadata": {},
   "outputs": [],
   "source": [
    "\n",
    "def Get_all_corner_points(n):\n",
    "    points=np.asarray([i for i in range(n)])\n",
    "    x_coordinates=np.cos(points*((2*np.pi)/n))\n",
    "    y_coordinates=np.sin(points*((2*np.pi)/n))\n",
    "    return x_coordinates,y_coordinates\n",
    "total_no_of_point=3*4*5*6*7*8\n",
    "def find_shape(n):\n",
    "    no_of_one_side_point=int(total_no_of_point/n)\n",
    "    x_coordinates,y_coordinates=Get_all_corner_points(n)\n",
    "\n",
    "    x_points_of_shape=np.asarray([])\n",
    "    y_points_of_shape=np.asarray([])\n",
    "\n",
    "    for i in range(n):\n",
    "        x_points_of_shape=np.append(x_points_of_shape,np.linspace(x_coordinates[i],x_coordinates[(i+1)%n],no_of_one_side_point))\n",
    "        y_points_of_shape=np.append(y_points_of_shape,np.linspace(y_coordinates[i],y_coordinates[(i+1)%n],no_of_one_side_point))\n",
    "    return x_points_of_shape,y_points_of_shape"
   ]
  },
  {
   "cell_type": "code",
   "execution_count": null,
   "metadata": {},
   "outputs": [],
   "source": [
    "fig, ax = plt.subplots()\n",
    "xdata, ydata = [], []\n",
    "ln, = ax.plot([], [], 'r')\n",
    "ax.set_aspect('equal',adjustable='box')\n",
    "col=['red','blue','green','black','orange','orange','black','green','blue','red','grey']\n",
    "ss=set()\n",
    "\n",
    "def init():\n",
    "    ax.set_xlim(-1.5, 1.5)\n",
    "    ax.set_ylim(-1.5, 1.5)\n",
    "    return ln,\n",
    "def update(frame):\n",
    "    xdata, ydata = morph(frame)\n",
    "    ln.set_data(xdata, ydata)\n",
    "    ln.set_color(col[int(frame)-1])\n",
    "    ss.add(int(frame)-1)\n",
    "    return ln,\n",
    "\n",
    "def morph(frame):\n",
    "    if(frame < num_of_fig):\n",
    "        n=int(frame)\n",
    "        x1,y1=find_shape(n+2)\n",
    "        x2,y2=find_shape(n+3)\n",
    "        alpha=frame-n\n",
    "        xm = alpha * x2 + (1-alpha) * x1\n",
    "        ym = alpha * y2 + (1-alpha) * y1\n",
    "        return xm, ym\n",
    "    else:\n",
    "        n=int(frame)\n",
    "        x1,y1=find_shape(2*num_of_fig-n + 2)\n",
    "        x2,y2=find_shape(2*num_of_fig-n + 1)\n",
    "        alpha=frame-n\n",
    "        xm = alpha * x2 + (1-alpha) * x1\n",
    "        ym = alpha * y2 + (1-alpha) * y1\n",
    "        return xm, ym\n",
    "        \n",
    "# total_no_of_point=4*5*6*7*8\n",
    "num_of_fig=6\n",
    "# xc, yc = circle(np.linspace(0, 2*np.pi, 200))\n",
    "# plt.plot(xc,yc)\n",
    "ani = FuncAnimation(fig, update, frames=np.linspace(1, 2*num_of_fig-1, (2*num_of_fig-2)*50),\n",
    "                    init_func=init, blit=True, interval=10, repeat=True)\n",
    "plt.show()\n"
   ]
  }
 ],
 "metadata": {
  "kernelspec": {
   "display_name": "Python 3",
   "language": "python",
   "name": "python3"
  },
  "language_info": {
   "codemirror_mode": {
    "name": "ipython",
    "version": 3
   },
   "file_extension": ".py",
   "mimetype": "text/x-python",
   "name": "python",
   "nbconvert_exporter": "python",
   "pygments_lexer": "ipython3",
   "version": "3.10.8"
  },
  "orig_nbformat": 4
 },
 "nbformat": 4,
 "nbformat_minor": 2
}
